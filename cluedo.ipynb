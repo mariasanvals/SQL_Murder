import pandas as pd
import sqlite3
# Conectamos con la base de datos chinook.db
connection = sqlite3.connect("./data/sql-murder-mystery.db")
# Obtenemos un cursor que utilizaremos para hacer las queries
cursor_clase = connection.cursor()

def sql_query(query):

    # Ejecuta la query
    cursor_clase.execute(query) # Recuerda que sólo funcionará si has llamado cursor_bootcamp
                                    # a tu cursor, si no, cambia el nombre en todo el código de la función

    # Almacena los datos de la query 
    ans = cursor_clase.fetchall()

    # Obtenemos los nombres de las columnas de la tabla
    names = [description[0] for description in cursor_clase.description]

    return pd.DataFrame(ans,columns=names)

query = '''
SELECT *
FROM person
'''
sql_query(query)